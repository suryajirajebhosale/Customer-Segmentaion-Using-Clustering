{
 "cells": [
  {
   "cell_type": "markdown",
   "metadata": {},
   "source": [
    "**Name: Suryajiraje Bhosale**\n",
    "\n",
    "**Date: 17-07-2021**\n",
    "\n",
    "**PRN: 1901202051**\n",
    "\n",
    "**School: Data Science**\n",
    "\n",
    "**Program: B.Sc. Data Science**\n",
    "\n",
    "**Year/ Semester: 2nd / 4th**\n",
    "\n",
    "**Subject Name: Machine Learning 2**\n",
    "\n",
    "**Subject Code: DS401**\n",
    "\n",
    "**Title: Customer Segmentation using Clustering.**\n",
    "\n",
    "**Skills/Competencies to be acquired:**\n",
    "\n",
    "1. Application of clustering\n",
    "\n",
    "2. Visualisation\n",
    "\n",
    "3. Customer segmentation\n",
    "\n",
    "**Duration of activity: 1 Hour**\n",
    "\n",
    "**1. What is the purpose of this activity?**\n",
    "\n",
    "The purpose of this activity is to apply clustering algoritms for choosing optimal number of clusters in order to facilitate customer segmentation.\n",
    "\n",
    "**2. Steps performed in this activity.**\n",
    "\n",
    "1. Import the required modules and read the data.\n",
    "\n",
    "2. Check for missing values.\n",
    "\n",
    "3. Create a pivot table and then a sparse matrix denoting the customer's offer selection (1 = yes / 0 = no).\n",
    "\n",
    "4. Visualise using elbow method and dendrogram for k-Means and hierarchical clustering respectively and choose the optimal k value to segement customers into several groups.\n",
    "\n",
    "5. Note your output."
   ]
  },
  {
   "cell_type": "markdown",
   "metadata": {},
   "source": [
    "**3. What resources / materials / equipment / tools did you use for this activity?**\n",
    "\n",
    "• Jupyter Notebook\n",
    "\n",
    "• Lecture notes\n",
    "\n",
    "• Google, Google Meet\n",
    "\n",
    "• MS Word, MS Excel\n",
    "\n",
    "• Websites: W3Resources, Towards Data Science\n",
    "\n",
    "**4. What skills did you acquire?**\n",
    "\n",
    "• Able to apply several clustering algorithm.\n",
    "\n",
    "• Able to select the most suitable algorithm.\n",
    "\n",
    "• Able to perform EDA and derive actionable insights.\n",
    "\n",
    "**5. Time taken to complete the activity?**\n",
    "\n",
    "1 Hour."
   ]
  },
  {
   "cell_type": "markdown",
   "metadata": {},
   "source": [
    "-------------------------------------------------------------------------------------------------------------------------------"
   ]
  },
  {
   "cell_type": "markdown",
   "metadata": {},
   "source": [
    "**Importing essential modules:**"
   ]
  },
  {
   "cell_type": "code",
   "execution_count": 1,
   "metadata": {},
   "outputs": [],
   "source": [
    "import pandas as pd\n",
    "import numpy as np\n",
    "import matplotlib.pyplot as plt\n",
    "import seaborn as sns\n",
    "%matplotlib inline\n",
    "sns.set_style(\"darkgrid\")\n",
    "sns.set_context(\"talk\")\n",
    "import warnings\n",
    "warnings.filterwarnings(\"ignore\")"
   ]
  },
  {
   "cell_type": "code",
   "execution_count": 2,
   "metadata": {},
   "outputs": [
    {
     "data": {
      "text/html": [
       "<div>\n",
       "<style scoped>\n",
       "    .dataframe tbody tr th:only-of-type {\n",
       "        vertical-align: middle;\n",
       "    }\n",
       "\n",
       "    .dataframe tbody tr th {\n",
       "        vertical-align: top;\n",
       "    }\n",
       "\n",
       "    .dataframe thead th {\n",
       "        text-align: right;\n",
       "    }\n",
       "</style>\n",
       "<table border=\"1\" class=\"dataframe\">\n",
       "  <thead>\n",
       "    <tr style=\"text-align: right;\">\n",
       "      <th></th>\n",
       "      <th>Offer #</th>\n",
       "      <th>Campaign</th>\n",
       "      <th>Varietal</th>\n",
       "      <th>Minimum Qty (kg)</th>\n",
       "      <th>Discount (%)</th>\n",
       "      <th>Origin</th>\n",
       "      <th>Past Peak</th>\n",
       "    </tr>\n",
       "  </thead>\n",
       "  <tbody>\n",
       "    <tr>\n",
       "      <th>0</th>\n",
       "      <td>1</td>\n",
       "      <td>January</td>\n",
       "      <td>Malbec</td>\n",
       "      <td>72</td>\n",
       "      <td>56</td>\n",
       "      <td>France</td>\n",
       "      <td>False</td>\n",
       "    </tr>\n",
       "    <tr>\n",
       "      <th>1</th>\n",
       "      <td>2</td>\n",
       "      <td>January</td>\n",
       "      <td>Pinot Noir</td>\n",
       "      <td>72</td>\n",
       "      <td>17</td>\n",
       "      <td>France</td>\n",
       "      <td>False</td>\n",
       "    </tr>\n",
       "    <tr>\n",
       "      <th>2</th>\n",
       "      <td>3</td>\n",
       "      <td>February</td>\n",
       "      <td>Espumante</td>\n",
       "      <td>144</td>\n",
       "      <td>32</td>\n",
       "      <td>Oregon</td>\n",
       "      <td>True</td>\n",
       "    </tr>\n",
       "    <tr>\n",
       "      <th>3</th>\n",
       "      <td>4</td>\n",
       "      <td>February</td>\n",
       "      <td>Champagne</td>\n",
       "      <td>72</td>\n",
       "      <td>48</td>\n",
       "      <td>France</td>\n",
       "      <td>True</td>\n",
       "    </tr>\n",
       "  </tbody>\n",
       "</table>\n",
       "</div>"
      ],
      "text/plain": [
       "   Offer #  Campaign    Varietal  Minimum Qty (kg)  Discount (%)  Origin  \\\n",
       "0        1   January      Malbec                72            56  France   \n",
       "1        2   January  Pinot Noir                72            17  France   \n",
       "2        3  February   Espumante               144            32  Oregon   \n",
       "3        4  February   Champagne                72            48  France   \n",
       "\n",
       "   Past Peak  \n",
       "0      False  \n",
       "1      False  \n",
       "2       True  \n",
       "3       True  "
      ]
     },
     "execution_count": 2,
     "metadata": {},
     "output_type": "execute_result"
    }
   ],
   "source": [
    "offers = pd.read_excel('CustomerSegmentation.xlsx',sheet_name='OfferInformation')\n",
    "offers.head(4)"
   ]
  },
  {
   "cell_type": "code",
   "execution_count": 3,
   "metadata": {},
   "outputs": [
    {
     "data": {
      "text/html": [
       "<div>\n",
       "<style scoped>\n",
       "    .dataframe tbody tr th:only-of-type {\n",
       "        vertical-align: middle;\n",
       "    }\n",
       "\n",
       "    .dataframe tbody tr th {\n",
       "        vertical-align: top;\n",
       "    }\n",
       "\n",
       "    .dataframe thead th {\n",
       "        text-align: right;\n",
       "    }\n",
       "</style>\n",
       "<table border=\"1\" class=\"dataframe\">\n",
       "  <thead>\n",
       "    <tr style=\"text-align: right;\">\n",
       "      <th></th>\n",
       "      <th>Customer Last Name</th>\n",
       "      <th>Offer #</th>\n",
       "      <th>n</th>\n",
       "    </tr>\n",
       "  </thead>\n",
       "  <tbody>\n",
       "    <tr>\n",
       "      <th>0</th>\n",
       "      <td>Smith</td>\n",
       "      <td>2</td>\n",
       "      <td>1</td>\n",
       "    </tr>\n",
       "    <tr>\n",
       "      <th>1</th>\n",
       "      <td>Smith</td>\n",
       "      <td>24</td>\n",
       "      <td>1</td>\n",
       "    </tr>\n",
       "    <tr>\n",
       "      <th>2</th>\n",
       "      <td>Johnson</td>\n",
       "      <td>17</td>\n",
       "      <td>1</td>\n",
       "    </tr>\n",
       "    <tr>\n",
       "      <th>3</th>\n",
       "      <td>Johnson</td>\n",
       "      <td>24</td>\n",
       "      <td>1</td>\n",
       "    </tr>\n",
       "    <tr>\n",
       "      <th>4</th>\n",
       "      <td>Johnson</td>\n",
       "      <td>26</td>\n",
       "      <td>1</td>\n",
       "    </tr>\n",
       "  </tbody>\n",
       "</table>\n",
       "</div>"
      ],
      "text/plain": [
       "  Customer Last Name  Offer #  n\n",
       "0              Smith        2  1\n",
       "1              Smith       24  1\n",
       "2            Johnson       17  1\n",
       "3            Johnson       24  1\n",
       "4            Johnson       26  1"
      ]
     },
     "execution_count": 3,
     "metadata": {},
     "output_type": "execute_result"
    }
   ],
   "source": [
    "transactions = pd.read_excel('CustomerSegmentation.xlsx',sheet_name='Transactions')\n",
    "transactions.head(4)\n",
    "transactions['n'] = 1\n",
    "transactions.head()"
   ]
  },
  {
   "cell_type": "code",
   "execution_count": 4,
   "metadata": {},
   "outputs": [
    {
     "name": "stdout",
     "output_type": "stream",
     "text": [
      "Missing values:\n",
      "\n",
      "Sheet 1: 0\n",
      "Sheet 2: 0\n"
     ]
    }
   ],
   "source": [
    "print(\"Missing values:\\n\")\n",
    "print(\"Sheet 1:\",offers.isna().sum().sum())\n",
    "print(\"Sheet 2:\",transactions.isna().sum().sum())"
   ]
  },
  {
   "cell_type": "markdown",
   "metadata": {},
   "source": [
    "**Q1. Create a data frame (Sparse matrix) where each row has the following columns:**\n",
    "\n",
    "**a. Customer Last Name**  \n",
    "\n",
    "**b. One column for each offer, with a 1 if the customer responded to the offer.**"
   ]
  },
  {
   "cell_type": "code",
   "execution_count": 5,
   "metadata": {},
   "outputs": [
    {
     "data": {
      "text/html": [
       "<div>\n",
       "<style scoped>\n",
       "    .dataframe tbody tr th:only-of-type {\n",
       "        vertical-align: middle;\n",
       "    }\n",
       "\n",
       "    .dataframe tbody tr th {\n",
       "        vertical-align: top;\n",
       "    }\n",
       "\n",
       "    .dataframe thead th {\n",
       "        text-align: right;\n",
       "    }\n",
       "</style>\n",
       "<table border=\"1\" class=\"dataframe\">\n",
       "  <thead>\n",
       "    <tr style=\"text-align: right;\">\n",
       "      <th>Offer #</th>\n",
       "      <th>Customer Last Name</th>\n",
       "      <th>1</th>\n",
       "      <th>2</th>\n",
       "      <th>3</th>\n",
       "      <th>4</th>\n",
       "      <th>5</th>\n",
       "      <th>6</th>\n",
       "      <th>7</th>\n",
       "      <th>8</th>\n",
       "      <th>9</th>\n",
       "      <th>...</th>\n",
       "      <th>23</th>\n",
       "      <th>24</th>\n",
       "      <th>25</th>\n",
       "      <th>26</th>\n",
       "      <th>27</th>\n",
       "      <th>28</th>\n",
       "      <th>29</th>\n",
       "      <th>30</th>\n",
       "      <th>31</th>\n",
       "      <th>32</th>\n",
       "    </tr>\n",
       "  </thead>\n",
       "  <tbody>\n",
       "    <tr>\n",
       "      <th>0</th>\n",
       "      <td>Adams</td>\n",
       "      <td>0.0</td>\n",
       "      <td>0.0</td>\n",
       "      <td>0.0</td>\n",
       "      <td>0.0</td>\n",
       "      <td>0.0</td>\n",
       "      <td>0.0</td>\n",
       "      <td>0.0</td>\n",
       "      <td>0.0</td>\n",
       "      <td>0.0</td>\n",
       "      <td>...</td>\n",
       "      <td>0.0</td>\n",
       "      <td>0.0</td>\n",
       "      <td>0.0</td>\n",
       "      <td>0.0</td>\n",
       "      <td>0.0</td>\n",
       "      <td>0.0</td>\n",
       "      <td>1.0</td>\n",
       "      <td>1.0</td>\n",
       "      <td>0.0</td>\n",
       "      <td>0.0</td>\n",
       "    </tr>\n",
       "    <tr>\n",
       "      <th>1</th>\n",
       "      <td>Allen</td>\n",
       "      <td>0.0</td>\n",
       "      <td>0.0</td>\n",
       "      <td>0.0</td>\n",
       "      <td>0.0</td>\n",
       "      <td>0.0</td>\n",
       "      <td>0.0</td>\n",
       "      <td>0.0</td>\n",
       "      <td>0.0</td>\n",
       "      <td>1.0</td>\n",
       "      <td>...</td>\n",
       "      <td>0.0</td>\n",
       "      <td>0.0</td>\n",
       "      <td>0.0</td>\n",
       "      <td>0.0</td>\n",
       "      <td>1.0</td>\n",
       "      <td>0.0</td>\n",
       "      <td>0.0</td>\n",
       "      <td>0.0</td>\n",
       "      <td>0.0</td>\n",
       "      <td>0.0</td>\n",
       "    </tr>\n",
       "    <tr>\n",
       "      <th>2</th>\n",
       "      <td>Anderson</td>\n",
       "      <td>0.0</td>\n",
       "      <td>0.0</td>\n",
       "      <td>0.0</td>\n",
       "      <td>0.0</td>\n",
       "      <td>0.0</td>\n",
       "      <td>0.0</td>\n",
       "      <td>0.0</td>\n",
       "      <td>0.0</td>\n",
       "      <td>0.0</td>\n",
       "      <td>...</td>\n",
       "      <td>0.0</td>\n",
       "      <td>1.0</td>\n",
       "      <td>0.0</td>\n",
       "      <td>1.0</td>\n",
       "      <td>0.0</td>\n",
       "      <td>0.0</td>\n",
       "      <td>0.0</td>\n",
       "      <td>0.0</td>\n",
       "      <td>0.0</td>\n",
       "      <td>0.0</td>\n",
       "    </tr>\n",
       "    <tr>\n",
       "      <th>3</th>\n",
       "      <td>Bailey</td>\n",
       "      <td>0.0</td>\n",
       "      <td>0.0</td>\n",
       "      <td>0.0</td>\n",
       "      <td>0.0</td>\n",
       "      <td>0.0</td>\n",
       "      <td>0.0</td>\n",
       "      <td>1.0</td>\n",
       "      <td>0.0</td>\n",
       "      <td>0.0</td>\n",
       "      <td>...</td>\n",
       "      <td>0.0</td>\n",
       "      <td>0.0</td>\n",
       "      <td>0.0</td>\n",
       "      <td>0.0</td>\n",
       "      <td>0.0</td>\n",
       "      <td>0.0</td>\n",
       "      <td>0.0</td>\n",
       "      <td>1.0</td>\n",
       "      <td>0.0</td>\n",
       "      <td>0.0</td>\n",
       "    </tr>\n",
       "    <tr>\n",
       "      <th>4</th>\n",
       "      <td>Baker</td>\n",
       "      <td>0.0</td>\n",
       "      <td>0.0</td>\n",
       "      <td>0.0</td>\n",
       "      <td>0.0</td>\n",
       "      <td>0.0</td>\n",
       "      <td>0.0</td>\n",
       "      <td>1.0</td>\n",
       "      <td>0.0</td>\n",
       "      <td>0.0</td>\n",
       "      <td>...</td>\n",
       "      <td>0.0</td>\n",
       "      <td>0.0</td>\n",
       "      <td>0.0</td>\n",
       "      <td>0.0</td>\n",
       "      <td>0.0</td>\n",
       "      <td>0.0</td>\n",
       "      <td>0.0</td>\n",
       "      <td>0.0</td>\n",
       "      <td>1.0</td>\n",
       "      <td>0.0</td>\n",
       "    </tr>\n",
       "  </tbody>\n",
       "</table>\n",
       "<p>5 rows × 33 columns</p>\n",
       "</div>"
      ],
      "text/plain": [
       "Offer # Customer Last Name    1    2    3    4    5    6    7    8    9  ...  \\\n",
       "0                    Adams  0.0  0.0  0.0  0.0  0.0  0.0  0.0  0.0  0.0  ...   \n",
       "1                    Allen  0.0  0.0  0.0  0.0  0.0  0.0  0.0  0.0  1.0  ...   \n",
       "2                 Anderson  0.0  0.0  0.0  0.0  0.0  0.0  0.0  0.0  0.0  ...   \n",
       "3                   Bailey  0.0  0.0  0.0  0.0  0.0  0.0  1.0  0.0  0.0  ...   \n",
       "4                    Baker  0.0  0.0  0.0  0.0  0.0  0.0  1.0  0.0  0.0  ...   \n",
       "\n",
       "Offer #   23   24   25   26   27   28   29   30   31   32  \n",
       "0        0.0  0.0  0.0  0.0  0.0  0.0  1.0  1.0  0.0  0.0  \n",
       "1        0.0  0.0  0.0  0.0  1.0  0.0  0.0  0.0  0.0  0.0  \n",
       "2        0.0  1.0  0.0  1.0  0.0  0.0  0.0  0.0  0.0  0.0  \n",
       "3        0.0  0.0  0.0  0.0  0.0  0.0  0.0  1.0  0.0  0.0  \n",
       "4        0.0  0.0  0.0  0.0  0.0  0.0  0.0  0.0  1.0  0.0  \n",
       "\n",
       "[5 rows x 33 columns]"
      ]
     },
     "execution_count": 5,
     "metadata": {},
     "output_type": "execute_result"
    }
   ],
   "source": [
    "result = pd.merge(transactions,offers,on=\"Offer #\")\n",
    "table = pd.pivot_table(result,index='Customer Last Name',columns =\"Offer #\",values=\"n\")\n",
    "table.fillna(0,inplace=True)\n",
    "table.reset_index(inplace=True)\n",
    "table.head()"
   ]
  },
  {
   "cell_type": "markdown",
   "metadata": {},
   "source": [
    "**Comment:** \n",
    "\n",
    "First we created a variable in the 'transactions' datasheet called 'n' which indicates that the customer has opted that particular column (basically a tally). Then we merged the 2 datasheets 'offers' and 'transactions' into one and named it 'results'. \n",
    "\n",
    "After that, we created a pivot table based on 'n' i.e. if that particular customer has opted any one or more than one of the 32 offers or not. A pivot table is created. In that pivot table, n=1 indicates that the customer has opted for the offer and 0 if the customer has not."
   ]
  },
  {
   "cell_type": "markdown",
   "metadata": {},
   "source": [
    "**Q2.1. Create a numpy matrix 'x_cols' with only the columns representing the offers (i.e. the 0/1 columns)**\n",
    "\n",
    "**Q2.2. What values of $SS$ do you believe represent better clusterings? Why? Write code that applies the clustering method from scikit-learn to this matrix.**"
   ]
  },
  {
   "cell_type": "code",
   "execution_count": 6,
   "metadata": {},
   "outputs": [],
   "source": [
    "#2.1. Transforming our pivot table 'table' into a numpy sparse matrix for ease of computation\n",
    "\n",
    "x_cols = table.columns[2:]         #we are selecting from column no. 2 onwards since we don't want indexes or customer names\n",
    "x_cols = np.matrix(table[x_cols])"
   ]
  },
  {
   "cell_type": "markdown",
   "metadata": {},
   "source": [
    "**Using kMeans clustering first:**"
   ]
  },
  {
   "cell_type": "code",
   "execution_count": 12,
   "metadata": {},
   "outputs": [
    {
     "data": {
      "text/html": [
       "<div>\n",
       "<style scoped>\n",
       "    .dataframe tbody tr th:only-of-type {\n",
       "        vertical-align: middle;\n",
       "    }\n",
       "\n",
       "    .dataframe tbody tr th {\n",
       "        vertical-align: top;\n",
       "    }\n",
       "\n",
       "    .dataframe thead th {\n",
       "        text-align: right;\n",
       "    }\n",
       "</style>\n",
       "<table border=\"1\" class=\"dataframe\">\n",
       "  <thead>\n",
       "    <tr style=\"text-align: right;\">\n",
       "      <th></th>\n",
       "      <th>WCSS</th>\n",
       "    </tr>\n",
       "  </thead>\n",
       "  <tbody>\n",
       "    <tr>\n",
       "      <th>0</th>\n",
       "      <td>272.900000</td>\n",
       "    </tr>\n",
       "    <tr>\n",
       "      <th>1</th>\n",
       "      <td>243.090278</td>\n",
       "    </tr>\n",
       "    <tr>\n",
       "      <th>2</th>\n",
       "      <td>220.025639</td>\n",
       "    </tr>\n",
       "    <tr>\n",
       "      <th>3</th>\n",
       "      <td>206.286111</td>\n",
       "    </tr>\n",
       "    <tr>\n",
       "      <th>4</th>\n",
       "      <td>195.413015</td>\n",
       "    </tr>\n",
       "    <tr>\n",
       "      <th>5</th>\n",
       "      <td>187.823250</td>\n",
       "    </tr>\n",
       "    <tr>\n",
       "      <th>6</th>\n",
       "      <td>179.309324</td>\n",
       "    </tr>\n",
       "    <tr>\n",
       "      <th>7</th>\n",
       "      <td>172.388289</td>\n",
       "    </tr>\n",
       "    <tr>\n",
       "      <th>8</th>\n",
       "      <td>167.321501</td>\n",
       "    </tr>\n",
       "    <tr>\n",
       "      <th>9</th>\n",
       "      <td>159.945635</td>\n",
       "    </tr>\n",
       "    <tr>\n",
       "      <th>10</th>\n",
       "      <td>152.256818</td>\n",
       "    </tr>\n",
       "  </tbody>\n",
       "</table>\n",
       "</div>"
      ],
      "text/plain": [
       "          WCSS\n",
       "0   272.900000\n",
       "1   243.090278\n",
       "2   220.025639\n",
       "3   206.286111\n",
       "4   195.413015\n",
       "5   187.823250\n",
       "6   179.309324\n",
       "7   172.388289\n",
       "8   167.321501\n",
       "9   159.945635\n",
       "10  152.256818"
      ]
     },
     "execution_count": 12,
     "metadata": {},
     "output_type": "execute_result"
    }
   ],
   "source": [
    "#2.2. \n",
    "\n",
    "#1) kMeans clustering: making an elbow plot of the wcss (inertia) versus k-values \n",
    "\n",
    "from sklearn.cluster import KMeans\n",
    "k_values = [1,2,3,4,5,6,7,8,9,10,11]\n",
    "wcss = []\n",
    "for k in k_values:\n",
    "    kmeans = KMeans(n_clusters=k)\n",
    "    kmeans.fit(x_cols)\n",
    "    wcss.append(kmeans.inertia_)\n",
    "\n",
    "ss_vals = pd.DataFrame(wcss,columns=[\"WCSS\"])\n",
    "ss_vals"
   ]
  },
  {
   "cell_type": "code",
   "execution_count": 8,
   "metadata": {},
   "outputs": [
    {
     "data": {
      "text/plain": [
       "Text(0, 0.5, 'Within Cluster Sum of Squares (WCSS)')"
      ]
     },
     "execution_count": 8,
     "metadata": {},
     "output_type": "execute_result"
    },
    {
     "data": {
      "image/png": "[encoded data removed]",
      "text/plain": [
       "<Figure size 720x504 with 1 Axes>"
      ]
     },
     "metadata": {},
     "output_type": "display_data"
    }
   ],
   "source": [
    "plt.figure(figsize=(10,7))\n",
    "plt.plot(k_values,wcss,marker=\"o\",color=\"#31826b\",ls=\"--\")\n",
    "plt.title(\"Elbow plot for optimal k clusters selection\",size=20)\n",
    "plt.xlabel(\"Number (k) of Clusters\",size=16)\n",
    "plt.axvline(x=9,ls=\"--\",linewidth=2,c='k')\n",
    "plt.ylabel(\"Within Cluster Sum of Squares (WCSS)\",size=16)"
   ]
  },
  {
   "cell_type": "markdown",
   "metadata": {},
   "source": [
    "**Trying with Hierarchical clustering now:**"
   ]
  },
  {
   "cell_type": "code",
   "execution_count": 10,
   "metadata": {},
   "outputs": [
    {
     "data": {
      "image/png": "[encoded data removed]",
      "text/plain": [
       "<Figure size 720x504 with 1 Axes>"
      ]
     },
     "metadata": {},
     "output_type": "display_data"
    }
   ],
   "source": [
    "#2.2. \n",
    "\n",
    "#2) Hierarchical clustering: making a dendrogram to select the optimal clusters \n",
    "import scipy.cluster.hierarchy as sch\n",
    "plt.figure(figsize=(10,7))\n",
    "dendrogram = sch.dendrogram(sch.linkage(x_cols, method=\"ward\"))\n",
    "plt.title(\"Dendrogram for optimal k clusters selection\",size=20)\n",
    "plt.xlabel(\"Customer Selected Offers\",size=16)\n",
    "plt.ylabel(\"Euclidean distances\",size=16)\n",
    "plt.axhline(y=3.8,ls=\"--\",linewidth=2,c='k')\n",
    "plt.show()"
   ]
  },
  {
   "cell_type": "markdown",
   "metadata": {},
   "source": [
    "**Comments:**\n",
    "\n",
    "We first created a sparse numpy matrix called \"x_cols\" from the pivot table (excluding the index and customer name) and trained it first using k-Means clustering algorithm to plot an elbow curve so as to select the optimal cluster. Via the elbow plot, upon passing a vertical line, it can be seen that there is a plummet in the k = 9 region, which was a trivial observation. \n",
    "\n",
    "The downside of k-Means algorithm is that it requires us to explicitly mention the number of clusters before training. To overcome this, we used hierarchical clustering. For this, we first plot a Dendrogram using Euclidean distance as the distance parameter and Ward method for interlinkage of clades/leaves of the dendrogram.\n",
    "\n",
    "Upon passing a horizontal line from the biggest, most symmetrical clades with no overlapping clades, it can be sen that the optimal number of clusters is indeed 9 (which had already been deduced in the elbow plot); since, the horizontal line passes through 9 vertical clades/leaves."
   ]
  },
  {
   "cell_type": "markdown",
   "metadata": {},
   "source": [
    "**Q3. Make a bar chart showing the number of points in each cluster for k-Means under the best $K$.**"
   ]
  },
  {
   "cell_type": "code",
   "execution_count": 14,
   "metadata": {},
   "outputs": [
    {
     "data": {
      "text/plain": [
       "Text(0.5, 1.0, 'Frequency per Cluster')"
      ]
     },
     "execution_count": 14,
     "metadata": {},
     "output_type": "execute_result"
    },
    {
     "data": {
      "image/png": "[encoded data removed]",
      "text/plain": [
       "<Figure size 720x504 with 1 Axes>"
      ]
     },
     "metadata": {},
     "output_type": "display_data"
    }
   ],
   "source": [
    "opt_k = 9\n",
    "table[\"Cluster\"] = KMeans(n_clusters = opt_k).fit_predict(x_cols)\n",
    "plt.figure(figsize=(10,7))\n",
    "plt.bar(table[\"Cluster\"].unique(),table[\"Cluster\"].value_counts(),align=\"center\")\n",
    "plt.xlabel(\"k Clusters\",size=16)\n",
    "plt.ylabel(\"Frequency\",size=16)\n",
    "plt.title(\"Frequency per Cluster\",size=20)"
   ]
  },
  {
   "cell_type": "markdown",
   "metadata": {},
   "source": [
    "**Comment:** Cluster 4 has the highest frequency and cluster 3 has the lowest frequency."
   ]
  },
  {
   "cell_type": "markdown",
   "metadata": {},
   "source": [
    "**Q4. What challenges did you experience using the Elbow method to pick  $K$?**"
   ]
  },
  {
   "cell_type": "markdown",
   "metadata": {},
   "source": [
    "**A4.** When I plotted an elbow curve, there was a negligible drop observed between k = 8 and k = 9 which made the options ambigous and hard to pick a definite k value. However, as an alternative, I chose the hierarchical clustering algorithm to plot a dendrogram. This dendrogram gave a definite answer of optimal clusters i.e. k = 9."
   ]
  },
  {
   "cell_type": "markdown",
   "metadata": {},
   "source": [
    "**Q5. Compute the average silhouette score for each $K$ and plot it. What $K$ does the plot suggest we should choose? Does it differ from what we found using the Elbow method?**"
   ]
  },
  {
   "cell_type": "code",
   "execution_count": 21,
   "metadata": {},
   "outputs": [],
   "source": [
    "from sklearn.metrics import silhouette_score"
   ]
  },
  {
   "cell_type": "code",
   "execution_count": 55,
   "metadata": {},
   "outputs": [],
   "source": [
    "from sklearn import metrics \n",
    "num_clusters = 11\n",
    "kmeans_model = KMeans(n_clusters=num_clusters,random_state=1).fit(x_cols)\n",
    "cluster_labels = kmeans_model.labels_\n",
    "silhouette_values = metrics.silhouette_samples(x_cols,cluster_labels)\n",
    "\n",
    "means_lst = []\n",
    "for label in range(num_clusters):\n",
    "    means_lst.append(silhouette_values[cluster_labels == label].mean())"
   ]
  },
  {
   "cell_type": "code",
   "execution_count": 56,
   "metadata": {},
   "outputs": [
    {
     "data": {
      "text/html": [
       "<div>\n",
       "<style scoped>\n",
       "    .dataframe tbody tr th:only-of-type {\n",
       "        vertical-align: middle;\n",
       "    }\n",
       "\n",
       "    .dataframe tbody tr th {\n",
       "        vertical-align: top;\n",
       "    }\n",
       "\n",
       "    .dataframe thead th {\n",
       "        text-align: right;\n",
       "    }\n",
       "</style>\n",
       "<table border=\"1\" class=\"dataframe\">\n",
       "  <thead>\n",
       "    <tr style=\"text-align: right;\">\n",
       "      <th></th>\n",
       "      <th>Avg Silhouette Score</th>\n",
       "    </tr>\n",
       "  </thead>\n",
       "  <tbody>\n",
       "    <tr>\n",
       "      <th>0</th>\n",
       "      <td>0.165356</td>\n",
       "    </tr>\n",
       "    <tr>\n",
       "      <th>1</th>\n",
       "      <td>0.087676</td>\n",
       "    </tr>\n",
       "    <tr>\n",
       "      <th>2</th>\n",
       "      <td>0.026188</td>\n",
       "    </tr>\n",
       "    <tr>\n",
       "      <th>3</th>\n",
       "      <td>0.471093</td>\n",
       "    </tr>\n",
       "    <tr>\n",
       "      <th>4</th>\n",
       "      <td>-0.063256</td>\n",
       "    </tr>\n",
       "    <tr>\n",
       "      <th>5</th>\n",
       "      <td>0.212673</td>\n",
       "    </tr>\n",
       "    <tr>\n",
       "      <th>6</th>\n",
       "      <td>0.108636</td>\n",
       "    </tr>\n",
       "    <tr>\n",
       "      <th>7</th>\n",
       "      <td>0.224354</td>\n",
       "    </tr>\n",
       "    <tr>\n",
       "      <th>8</th>\n",
       "      <td>0.056734</td>\n",
       "    </tr>\n",
       "    <tr>\n",
       "      <th>9</th>\n",
       "      <td>0.142448</td>\n",
       "    </tr>\n",
       "    <tr>\n",
       "      <th>10</th>\n",
       "      <td>0.239033</td>\n",
       "    </tr>\n",
       "  </tbody>\n",
       "</table>\n",
       "</div>"
      ],
      "text/plain": [
       "    Avg Silhouette Score\n",
       "0               0.165356\n",
       "1               0.087676\n",
       "2               0.026188\n",
       "3               0.471093\n",
       "4              -0.063256\n",
       "5               0.212673\n",
       "6               0.108636\n",
       "7               0.224354\n",
       "8               0.056734\n",
       "9               0.142448\n",
       "10              0.239033"
      ]
     },
     "execution_count": 56,
     "metadata": {},
     "output_type": "execute_result"
    }
   ],
   "source": [
    "ms_score = pd.DataFrame(means_lst,columns=[\"Avg Silhouette Score\"])\n",
    "ms_score"
   ]
  },
  {
   "cell_type": "code",
   "execution_count": 57,
   "metadata": {},
   "outputs": [
    {
     "data": {
      "text/plain": [
       "Text(0, 0.5, 'Average Silouette Score')"
      ]
     },
     "execution_count": 57,
     "metadata": {},
     "output_type": "execute_result"
    },
    {
     "data": {
      "image/png": "[encoded data removed]",
      "text/plain": [
       "<Figure size 720x504 with 1 Axes>"
      ]
     },
     "metadata": {},
     "output_type": "display_data"
    }
   ],
   "source": [
    "plt.figure(figsize=(10,7))\n",
    "plt.plot(k_values,means_lst,ls=\"--\")\n",
    "plt.title(\"Mean Silhouette score plot for optimal k clusters selection\",size=20)\n",
    "plt.xlabel(\"Number (k) of Clusters\",size=16)\n",
    "plt.axvline(x=9,ls=\"--\",linewidth=2,c='k')\n",
    "plt.ylabel(\"Average Silouette Score\",size=16)"
   ]
  },
  {
   "cell_type": "markdown",
   "metadata": {},
   "source": [
    "**Comment:** Upon several iterations, k = 9 seems to be the best performer. It does not differ from what k value we picked in the elbow plot."
   ]
  }
 ],
 "metadata": {
  "kernelspec": {
   "display_name": "Python 3",
   "language": "python",
   "name": "python3"
  },
  "language_info": {
   "codemirror_mode": {
    "name": "ipython",
    "version": 3
   },
   "file_extension": ".py",
   "mimetype": "text/x-python",
   "name": "python",
   "nbconvert_exporter": "python",
   "pygments_lexer": "ipython3",
   "version": "3.7.3"
  }
 },
 "nbformat": 4,
 "nbformat_minor": 4
}
